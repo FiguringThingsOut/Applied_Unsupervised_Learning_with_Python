{
 "cells": [
  {
   "cell_type": "markdown",
   "id": "d624d1ce",
   "metadata": {},
   "source": [
    "### Exercise 3: Forming Clusters with the Notion of Distance"
   ]
  },
  {
   "cell_type": "markdown",
   "id": "47ba3f32",
   "metadata": {},
   "source": [
    "**Step 1 : Store the points**"
   ]
  },
  {
   "cell_type": "code",
   "execution_count": 1,
   "id": "a57d277e",
   "metadata": {},
   "outputs": [],
   "source": [
    "cluster_1_points = [(0,8), (3,8), (3,4)]"
   ]
  },
  {
   "cell_type": "markdown",
   "id": "a42a744e",
   "metadata": {},
   "source": [
    "**Step 2 : Calculate the mean point between all of the points to find the new centroid**"
   ]
  },
  {
   "cell_type": "code",
   "execution_count": 2,
   "id": "bb939f54",
   "metadata": {},
   "outputs": [],
   "source": [
    "mean = (sum([points[0] for points in cluster_1_points])/len(cluster_1_points),\n",
    "        sum([points[1] for points in cluster_1_points])/len(cluster_1_points))"
   ]
  },
  {
   "cell_type": "code",
   "execution_count": 3,
   "id": "57aa8989",
   "metadata": {},
   "outputs": [
    {
     "name": "stdout",
     "output_type": "stream",
     "text": [
      "(2.0, 6.666666666666667)\n"
     ]
    }
   ],
   "source": [
    "print(mean)"
   ]
  },
  {
   "cell_type": "markdown",
   "id": "65c497b8",
   "metadata": {},
   "source": [
    "**Recap all steps**"
   ]
  },
  {
   "cell_type": "code",
   "execution_count": 4,
   "id": "6effa9b2",
   "metadata": {},
   "outputs": [
    {
     "name": "stdout",
     "output_type": "stream",
     "text": [
      "(2.0, 6.666666666666667)\n"
     ]
    }
   ],
   "source": [
    "# store the points\n",
    "cluster_1_points = [(0,8), (3,8), (3,4)]\n",
    "\n",
    "# calclate the mean point between all of the points to find the new centroid\n",
    "mean = (sum([points[0] for points in cluster_1_points])/len(cluster_1_points),\n",
    "        sum([points[1] for points in cluster_1_points])/len(cluster_1_points))\n",
    "\n",
    "# print new centroid\n",
    "print(mean)"
   ]
  },
  {
   "cell_type": "code",
   "execution_count": 5,
   "id": "a071d434",
   "metadata": {},
   "outputs": [],
   "source": [
    "import seaborn as sns"
   ]
  },
  {
   "cell_type": "code",
   "execution_count": 8,
   "id": "da1eb592",
   "metadata": {},
   "outputs": [
    {
     "data": {
      "text/plain": [
       "<AxesSubplot:>"
      ]
     },
     "execution_count": 8,
     "metadata": {},
     "output_type": "execute_result"
    },
    {
     "data": {
      "image/png": "[encoded data removed]",
      "text/plain": [
       "<Figure size 432x288 with 1 Axes>"
      ]
     },
     "metadata": {
      "needs_background": "light"
     },
     "output_type": "display_data"
    }
   ],
   "source": [
    "sns.scatterplot(x = [points[0] for points in cluster_1_points], y = [points[1] for points in cluster_1_points])"
   ]
  },
  {
   "cell_type": "markdown",
   "id": "8836e3cd",
   "metadata": {},
   "source": [
    "### Try to repeat exercise 2. Trial 1\n",
    "\n",
    "I'm just lost here to this sentences\n",
    "\n",
    "`Eventually, the newcluster centroid will be the same as the one you had entering the problem, and the exercise will be complete. How many times this repeats depends on the data you are clustering.`\n",
    "\n",
    "* changing centroids from [(2, 5), (8, 3), (4, 5)] to [(2, 6.66667), (8, 3), (4, 5)] will only change centroid_distance\n",
    "* From what I understand from the book, the mean will change eventually from (2, 6.66667) to (2,5). \n",
    "* I simply carry on to the next section"
   ]
  },
  {
   "cell_type": "code",
   "execution_count": 11,
   "id": "fabb9254",
   "metadata": {},
   "outputs": [
    {
     "name": "stdout",
     "output_type": "stream",
     "text": [
      "[3.605551275463989, 9.433981132056603, 5.0]\n",
      "0\n"
     ]
    }
   ],
   "source": [
    "# Library & defined function\n",
    "import math\n",
    "import numpy as np\n",
    "\n",
    "def dist(a, b):\n",
    "    return math.sqrt(math.pow(a[0] - b[0],2) + math.pow(a[1] - b[1],2))\n",
    "\n",
    "# create the data points in Python as Follows\n",
    "centroids = [(2, 5), (8, 3), (4, 5)]\n",
    "x = (0, 8)\n",
    "\n",
    "# Naive formula to calculate the euclidian distance between example point * each of centroids\n",
    "centroid_distance = []\n",
    "\n",
    "\n",
    "for centroid in centroids:\n",
    "    centroid_distance.append(dist(x, centroid))\n",
    "    \n",
    "print(centroid_distance)\n",
    "print(np.argmin(centroid_distance))"
   ]
  },
  {
   "cell_type": "code",
   "execution_count": 12,
   "id": "ae63910e",
   "metadata": {},
   "outputs": [
    {
     "name": "stdout",
     "output_type": "stream",
     "text": [
      "[1.666666666666667, 7.031674369909662, 2.6034165586355518]\n",
      "0\n"
     ]
    }
   ],
   "source": [
    "# Library & defined function\n",
    "import math\n",
    "import numpy as np\n",
    "\n",
    "def dist(a, b):\n",
    "    return math.sqrt(math.pow(a[0] - b[0],2) + math.pow(a[1] - b[1],2))\n",
    "\n",
    "# create the data points in Python as Follows\n",
    "centroids = [(2, 5), (8, 3), (4, 5)]\n",
    "x = (2, 6.666666666666667)\n",
    "\n",
    "# Naive formula to calculate the euclidian distance between example point * each of centroids\n",
    "centroid_distance = []\n",
    "\n",
    "for centroid in centroids:\n",
    "    centroid_distance.append(dist(x, centroid))\n",
    "    \n",
    "print(centroid_distance)\n",
    "print(np.argmin(centroid_distance))"
   ]
  },
  {
   "cell_type": "code",
   "execution_count": null,
   "id": "64071838",
   "metadata": {},
   "outputs": [],
   "source": [
    "# store the points\n",
    "cluster_1_points = [(0,8), (3,8), (3,4)]\n",
    "\n",
    "# calclate the mean point between all of the points to find the new centroid\n",
    "mean = (sum([points[0] for points in cluster_1_points])/len(cluster_1_points),\n",
    "        sum([points[1] for points in cluster_1_points])/len(cluster_1_points))\n",
    "\n",
    "# print new centroid\n",
    "print(mean)"
   ]
  }
 ],
 "metadata": {
  "hide_input": false,
  "kernelspec": {
   "display_name": "Python 3 (ipykernel)",
   "language": "python",
   "name": "python3"
  },
  "language_info": {
   "codemirror_mode": {
    "name": "ipython",
    "version": 3
   },
   "file_extension": ".py",
   "mimetype": "text/x-python",
   "name": "python",
   "nbconvert_exporter": "python",
   "pygments_lexer": "ipython3",
   "version": "3.9.6"
  }
 },
 "nbformat": 4,
 "nbformat_minor": 5
}
