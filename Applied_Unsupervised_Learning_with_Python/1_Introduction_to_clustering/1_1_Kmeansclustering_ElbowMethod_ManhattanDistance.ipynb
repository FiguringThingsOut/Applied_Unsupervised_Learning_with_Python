{
 "cells": [
  {
   "cell_type": "code",
   "execution_count": 13,
   "id": "3db904a1",
   "metadata": {},
   "outputs": [
    {
     "data": {
      "text/html": [
       "<style>.container { width:90% !important; }</style>"
      ],
      "text/plain": [
       "<IPython.core.display.HTML object>"
      ]
     },
     "metadata": {},
     "output_type": "display_data"
    }
   ],
   "source": [
    "from IPython.display import HTML\n",
    "# larger cell code only in jupyter notebook\n",
    "from IPython.display import display, HTML\n",
    "display(HTML(\"<style>.container { width:90% !important; }</style>\"))"
   ]
  },
  {
   "cell_type": "markdown",
   "id": "2fc53be9",
   "metadata": {},
   "source": [
    "### No Math K-Means Walkthrough\n",
    "1. Pick k centeroid (k = expected distinct cluster)\n",
    "2. Randomply place k centeroids anywher amongst your existing data\n",
    "3. Calculate Euclidian Distance from each centeroid to all point in training data\n",
    "4. Training data grouped with their nearest centeroid\n",
    "5. calculate mean data point, change centeroid to that location\n",
    "6. step 3 through - 5 again till the membership in each group no longer changes"
   ]
  },
  {
   "cell_type": "markdown",
   "id": "d1810dbc",
   "metadata": {},
   "source": [
    "### Elbow Method"
   ]
  },
  {
   "cell_type": "code",
   "execution_count": 10,
   "id": "ec4d4b3a",
   "metadata": {},
   "outputs": [
    {
     "data": {
      "text/html": [
       "<img src=\"images\\elbowmerthod.PNG\" style=\"margin-left:auto; margin-right:auto\" width = \"600\" height = \"600\"/>"
      ],
      "text/plain": [
       "<IPython.core.display.HTML object>"
      ]
     },
     "execution_count": 10,
     "metadata": {},
     "output_type": "execute_result"
    }
   ],
   "source": [
    "html1 = '<img src=\"images\\\\elbowmerthod.PNG\" style=\"margin-left:auto; margin-right:auto\" width = \"600\" height = \"600\"/>'\n",
    "HTML(html1)\n",
    "\n",
    "# source : https://www.youtube.com/watch?v=4b5d3muPQmA (StatQuest: K-means clustering)"
   ]
  },
  {
   "cell_type": "markdown",
   "id": "5b676037",
   "metadata": {},
   "source": [
    "1. Basically repeat K-Means process with different k and find the total variance\n",
    "2. Find K with the most significance reduction of total variance\n",
    "3. Based on the image above, 3 is the best K because after that k - cluster, the reduction in variation is not that significance (compared to previous k - cluster)"
   ]
  },
  {
   "cell_type": "markdown",
   "id": "d82e63e2",
   "metadata": {},
   "source": [
    "### Manhattan Distance"
   ]
  },
  {
   "cell_type": "code",
   "execution_count": 20,
   "id": "6f45766c",
   "metadata": {},
   "outputs": [
    {
     "data": {
      "text/html": [
       "<img src=\"images\\ManhattanCalc.PNG\" style=\"margin-left:auto; margin-right:auto\" width = \"1000\" height = \"1000\"/>"
      ],
      "text/plain": [
       "<IPython.core.display.HTML object>"
      ]
     },
     "execution_count": 20,
     "metadata": {},
     "output_type": "execute_result"
    }
   ],
   "source": [
    "html1 = '<img src=\"images\\\\ManhattanCalc.PNG\" style=\"margin-left:auto; margin-right:auto\" width = \"1000\" height = \"1000\"/>'\n",
    "HTML(html1)"
   ]
  },
  {
   "cell_type": "code",
   "execution_count": 14,
   "id": "bdbb6fc9",
   "metadata": {},
   "outputs": [
    {
     "data": {
      "text/html": [
       "<img src=\"images\\manhattan_distance vs euclidian.jpg\" style=\"margin-left:auto; margin-right:auto\" width = \"600\" height = \"600\"/>"
      ],
      "text/plain": [
       "<IPython.core.display.HTML object>"
      ]
     },
     "execution_count": 14,
     "metadata": {},
     "output_type": "execute_result"
    }
   ],
   "source": [
    "html1 = '<img src=\"images\\\\manhattan_distance vs euclidian.jpg\" style=\"margin-left:auto; margin-right:auto\" width = \"600\" height = \"600\"/>'\n",
    "HTML(html1)\n",
    "\n",
    "# source : https://www.youtube.com/watch?v=4b5d3muPQmA (StatQuest: K-means clustering)"
   ]
  },
  {
   "cell_type": "markdown",
   "id": "17fe25e4",
   "metadata": {},
   "source": [
    "1. From what i see that distance with blue line and green line are the same. \n",
    "    * Horizontal total distance = 4\n",
    "    * Vertical total distance = 3"
   ]
  }
 ],
 "metadata": {
  "hide_input": true,
  "kernelspec": {
   "display_name": "Python 3 (ipykernel)",
   "language": "python",
   "name": "python3"
  },
  "language_info": {
   "codemirror_mode": {
    "name": "ipython",
    "version": 3
   },
   "file_extension": ".py",
   "mimetype": "text/x-python",
   "name": "python",
   "nbconvert_exporter": "python",
   "pygments_lexer": "ipython3",
   "version": "3.9.6"
  }
 },
 "nbformat": 4,
 "nbformat_minor": 5
}
