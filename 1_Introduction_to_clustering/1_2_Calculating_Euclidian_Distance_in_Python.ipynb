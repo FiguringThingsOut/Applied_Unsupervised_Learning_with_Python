{
 "cells": [
  {
   "cell_type": "markdown",
   "id": "4a22f0f2",
   "metadata": {},
   "source": [
    "### Exercise 2: Calculating Euclidean Distance in Python"
   ]
  },
  {
   "cell_type": "markdown",
   "id": "672f13e6",
   "metadata": {},
   "source": [
    "**Step 1 : Create naive formula that capture the direct math of euclidian distance**"
   ]
  },
  {
   "cell_type": "code",
   "execution_count": 1,
   "id": "cfedf539",
   "metadata": {},
   "outputs": [],
   "source": [
    "import math\n",
    "import numpy as np"
   ]
  },
  {
   "cell_type": "code",
   "execution_count": 2,
   "id": "2ed07e78",
   "metadata": {},
   "outputs": [],
   "source": [
    "def dist(a, b):\n",
    "    return math.sqrt(math.pow(a[0] - b[0],2) + math.pow(a[1] - b[1],2))"
   ]
  },
  {
   "cell_type": "markdown",
   "id": "d95cf9dc",
   "metadata": {},
   "source": [
    "**Step 2 : Create the data points in Python as follows**"
   ]
  },
  {
   "cell_type": "code",
   "execution_count": 7,
   "id": "472a1c5c",
   "metadata": {},
   "outputs": [],
   "source": [
    "centroids = [(2, 5), (8, 3), (4, 5)]\n",
    "x = (0, 8)"
   ]
  },
  {
   "cell_type": "markdown",
   "id": "987caa88",
   "metadata": {},
   "source": [
    "**Step 3 : Use the naive formula to calculate the euclidian distance between the example point and each of the three centroids were provided**"
   ]
  },
  {
   "cell_type": "code",
   "execution_count": 8,
   "id": "b6504a28",
   "metadata": {},
   "outputs": [
    {
     "name": "stdout",
     "output_type": "stream",
     "text": [
      "[3.605551275463989, 9.433981132056603, 5.0]\n",
      "0\n"
     ]
    }
   ],
   "source": [
    "centroid_distance = []\n",
    "\n",
    "for centroid in centroids:\n",
    "    centroid_distance.append(dist(x, centroid))\n",
    "    \n",
    "print(centroid_distance)\n",
    "print(np.argmin(centroid_distance))"
   ]
  },
  {
   "cell_type": "markdown",
   "id": "cbf82ba4",
   "metadata": {},
   "source": [
    "**NOTES**<br>\n",
    "* x (0, 8) was assignned to index 0 (cluster 1 with centroids of (2,5))\n",
    "* By understanding this exercise, you help teach a computer an approach to forming clusters of its own with the notion of distance. We will build upon how we use these distance metrics in the next exercise."
   ]
  },
  {
   "cell_type": "markdown",
   "id": "30b7cc6e",
   "metadata": {},
   "source": [
    "**Recap All Steps**"
   ]
  },
  {
   "cell_type": "code",
   "execution_count": 1,
   "id": "5d08e024",
   "metadata": {},
   "outputs": [
    {
     "name": "stdout",
     "output_type": "stream",
     "text": [
      "[3.605551275463989, 9.433981132056603, 5.0]\n",
      "0\n"
     ]
    }
   ],
   "source": [
    "# Library & defined function\n",
    "import math\n",
    "import numpy as np\n",
    "\n",
    "def dist(a, b):\n",
    "    return math.sqrt(math.pow(a[0] - b[0],2) + math.pow(a[1] - b[1],2))\n",
    "\n",
    "# create the data points in Python as Follows\n",
    "centroids = [(2, 5), (8, 3), (4, 5)]\n",
    "x = (0, 8)\n",
    "\n",
    "# Naive formula to calculate the euclidian distance between example point * each of centroids\n",
    "centroid_distance = []\n",
    "\n",
    "for centroid in centroids:\n",
    "    centroid_distance.append(dist(x, centroid))\n",
    "    \n",
    "print(centroid_distance)\n",
    "print(np.argmin(centroid_distance))"
   ]
  }
 ],
 "metadata": {
  "hide_input": false,
  "kernelspec": {
   "display_name": "Python 3 (ipykernel)",
   "language": "python",
   "name": "python3"
  },
  "language_info": {
   "codemirror_mode": {
    "name": "ipython",
    "version": 3
   },
   "file_extension": ".py",
   "mimetype": "text/x-python",
   "name": "python",
   "nbconvert_exporter": "python",
   "pygments_lexer": "ipython3",
   "version": "3.9.6"
  }
 },
 "nbformat": 4,
 "nbformat_minor": 5
}
